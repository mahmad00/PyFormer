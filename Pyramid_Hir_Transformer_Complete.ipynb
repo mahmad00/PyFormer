{
  "cells": [
    {
      "cell_type": "code",
      "execution_count": 1,
      "metadata": {
        "colab": {
          "base_uri": "https://localhost:8080/"
        },
        "id": "O_dFGvUw047g",
        "outputId": "18d60ffd-876e-45b4-afaf-b7315d921d30"
      },
      "outputs": [
        {
          "name": "stderr",
          "output_type": "stream",
          "text": [
            "2024-09-14 10:39:06.970695: I tensorflow/core/util/port.cc:113] oneDNN custom operations are on. You may see slightly different numerical results due to floating-point round-off errors from different computation orders. To turn them off, set the environment variable `TF_ENABLE_ONEDNN_OPTS=0`.\n",
            "2024-09-14 10:39:07.005238: E external/local_xla/xla/stream_executor/cuda/cuda_dnn.cc:9261] Unable to register cuDNN factory: Attempting to register factory for plugin cuDNN when one has already been registered\n",
            "2024-09-14 10:39:07.005278: E external/local_xla/xla/stream_executor/cuda/cuda_fft.cc:607] Unable to register cuFFT factory: Attempting to register factory for plugin cuFFT when one has already been registered\n",
            "2024-09-14 10:39:07.006162: E external/local_xla/xla/stream_executor/cuda/cuda_blas.cc:1515] Unable to register cuBLAS factory: Attempting to register factory for plugin cuBLAS when one has already been registered\n",
            "2024-09-14 10:39:07.013083: I tensorflow/core/platform/cpu_feature_guard.cc:182] This TensorFlow binary is optimized to use available CPU instructions in performance-critical operations.\n",
            "To enable the following instructions: AVX2 AVX_VNNI FMA, in other operations, rebuild TensorFlow with the appropriate compiler flags.\n",
            "2024-09-14 10:39:07.650832: W tensorflow/compiler/tf2tensorrt/utils/py_utils.cc:38] TF-TRT Warning: Could not find TensorRT\n"
          ]
        }
      ],
      "source": [
        "import os\n",
        "import time\n",
        "import warnings\n",
        "import math\n",
        "import matplotlib.pyplot as plt\n",
        "import numpy as np\n",
        "import pandas as pd\n",
        "import scipy.io as sio\n",
        "import seaborn as sns\n",
        "import spectral\n",
        "import spectral.io.envi as envi\n",
        "from sklearn.decomposition import PCA\n",
        "from sklearn.metrics import (accuracy_score, classification_report,\n",
        "                             cohen_kappa_score, confusion_matrix)\n",
        "from sklearn.model_selection import train_test_split\n",
        "import tensorflow as tf\n",
        "import keras\n",
        "from keras.layers import (Conv3D, Dense, Dropout, Flatten, Input, concatenate, Reshape)\n",
        "from tensorflow.keras import regularizers\n",
        "from tensorflow.keras import layers, Model\n",
        "from keras.losses import categorical_crossentropy\n",
        "from keras.models import Model, Sequential\n",
        "from tensorflow.keras.layers import (Activation, Lambda, multiply)\n",
        "from tensorflow.keras.optimizers import Adam\n",
        "from keras.optimizers import Adam\n",
        "from tensorflow.keras.optimizers import legacy\n",
        "from operator import truediv\n",
        "from keras.utils import to_categorical"
      ]
    },
    {
      "cell_type": "markdown",
      "metadata": {
        "id": "ZnoyZdRF2QFl"
      },
      "source": [
        "**Load HSI Datasets**"
      ]
    },
    {
      "cell_type": "code",
      "execution_count": 2,
      "metadata": {
        "colab": {
          "base_uri": "https://localhost:8080/"
        },
        "id": "z3g1EnHI1NAj",
        "outputId": "0cd5a380-1ba9-473f-fbd1-9b3a2bc39faa"
      },
      "outputs": [],
      "source": [
        "## Loading Datasets\n",
        "def LoadHSIData(method):\n",
        "    data_path = os.path.join(os.getcwd(),'../HSI/')\n",
        "    if method == 'PU':\n",
        "        HSI = sio.loadmat(os.path.join(data_path, 'PaviaU.mat'))['paviaU']\n",
        "        GT = sio.loadmat(os.path.join(data_path, 'PaviaU_gt.mat'))['paviaU_gt']\n",
        "        Num_Classes = 9\n",
        "        target_names = ['Asphalt','Meadows','Gravel','Trees', 'Painted','Soil','Bitumen',\n",
        "                        'Bricks','Shadows']\n",
        "    elif method == 'SA':\n",
        "        HSI = sio.loadmat(os.path.join(data_path, 'Salinas_corrected.mat'))['salinas_corrected']\n",
        "        GT = sio.loadmat(os.path.join(data_path, 'Salinas_gt.mat'))['salinas_gt']\n",
        "        Num_Classes = 16\n",
        "        target_names = ['Weeds_1','Weeds_2','Fallow',\n",
        "                        'Fallow_rough_plow','Fallow_smooth', 'Stubble','Celery',\n",
        "                        'Grapes_untrained','Soil_vinyard_develop','Corn_Weeds',\n",
        "                        'Lettuce_4wk','Lettuce_5wk','Lettuce_6wk',\n",
        "                        'Lettuce_7wk', 'Vinyard_untrained','Vinyard_trellis']\n",
        "    elif method == 'UH':\n",
        "      HSI = sio.loadmat(os.path.join(data_path, 'HU.mat'))['HSI']\n",
        "      GT = sio.loadmat(os.path.join(data_path, 'HU_gt.mat'))['gt']\n",
        "      Num_Classes = 15\n",
        "      target_names = ['Healthy grass', 'Stressed grass', 'Synthetic grass', 'Trees',\n",
        "                    'Soil', 'Water', 'Residential', 'Commercial', 'Road',\n",
        "                    'Highway', 'Railway', 'Parking Lot 1', 'Parking Lot 2',\n",
        "                    'Tennis Court', 'Running Track']\n",
        "    return HSI, GT, Num_Classes, target_names"
      ]
    },
    {
      "cell_type": "markdown",
      "metadata": {
        "id": "Gcwd4TP22U0_"
      },
      "source": [
        "**Important Internal Functions**"
      ]
    },
    {
      "cell_type": "code",
      "execution_count": 3,
      "metadata": {
        "id": "mK-OGPKL2VES"
      },
      "outputs": [],
      "source": [
        "## Prediction Model\n",
        "def PreModel(Actual, model):\n",
        "  ## Validation Prediction Model\n",
        "  prediction = model.predict(Actual)\n",
        "  argmax_prediction = np.argmax(prediction, axis=1) + 1  # Add 1 to the argmax result to shift the class labels\n",
        "  non_zero_classes = np.unique(argmax_prediction)  # Get the unique non-zero class labels\n",
        "  # Remove the 0 class label if it exists in the non_zero_classes array\n",
        "  if 0 in non_zero_classes:\n",
        "    non_zero_classes = non_zero_classes[non_zero_classes != 0]\n",
        "  # Filter out the non-zero classes from the argmax_prediction array\n",
        "  Pre = argmax_prediction[np.isin(argmax_prediction, non_zero_classes)]\n",
        "  return Pre\n",
        "\n",
        "## Computing the Accuracies and Confusion Matrix for Disjoint Samples\n",
        "def ClassificationReports(TeC, HSID, Te_Pre, target_names):\n",
        "  classification = classification_report(np.argmax(TeC, axis=1)+1, Te_Pre, target_names = target_names)\n",
        "  oa = accuracy_score(np.argmax(TeC, axis=1)+1, Te_Pre)\n",
        "  oa = round(oa, 4)\n",
        "  confusion = confusion_matrix(np.argmax(TeC, axis=1)+1, Te_Pre)\n",
        "  list_diag = np.diag(confusion)\n",
        "  list_raw_sum = np.sum(confusion, axis=1)\n",
        "  each_acc = np.nan_to_num(truediv(list_diag, list_raw_sum))\n",
        "  aa = np.mean(each_acc)\n",
        "  aa = round(aa, 4)\n",
        "  kappa = cohen_kappa_score(np.argmax(TeC, axis=1)+1, Te_Pre)\n",
        "  kappa = round(kappa, 4)\n",
        "  return classification, confusion, oa*100, each_acc*100, aa*100, kappa*100\n",
        "\n",
        "\n",
        "## Writing Results in CSV files\n",
        "def CSVResults(file_name, Tr_Time, Te_Time, Te_classification,\n",
        "               Te_Confusion, Te_Kappa, Te_OA, Te_AA, Te_Per_Class):\n",
        "    Te_classification = str(Te_classification)\n",
        "    Te_Confusion = str(Te_Confusion)\n",
        "    with open(file_name, 'w') as CSV_file:\n",
        "      CSV_file.write('{} Tr_Time'.format(Tr_Time))\n",
        "      CSV_file.write('\\n')\n",
        "      CSV_file.write('{} Te_Time'.format(Te_Time))\n",
        "      CSV_file.write('\\n')\n",
        "      CSV_file.write('{} Te Kappa (%)'.format(Te_Kappa))\n",
        "      CSV_file.write('\\n')\n",
        "      CSV_file.write('{} Te Overall (%)'.format(Te_OA))\n",
        "      CSV_file.write('\\n')\n",
        "      CSV_file.write('{} Te Average (%)'.format(Te_AA))\n",
        "      CSV_file.write('\\n')\n",
        "      CSV_file.write('{} Te Classification'.format(Te_classification))\n",
        "      CSV_file.write('\\n')\n",
        "      CSV_file.write('{} Te Per Class'.format(Te_Per_Class))\n",
        "      CSV_file.write('\\n')\n",
        "      CSV_file.write('{} Te Confussion'.format(Te_Confusion))\n",
        "      CSV_file.write('\\n')\n",
        "    return CSV_file"
      ]
    },
    {
      "cell_type": "markdown",
      "metadata": {
        "id": "8OeacHTK7wBo"
      },
      "source": [
        "**Initializating Parameters**"
      ]
    },
    {
      "cell_type": "code",
      "execution_count": 4,
      "metadata": {
        "colab": {
          "base_uri": "https://localhost:8080/"
        },
        "id": "wpn6JXlA7vPZ",
        "outputId": "022bd6ee-2fac-4618-bc33-11c11bfd1335"
      },
      "outputs": [
        {
          "name": "stderr",
          "output_type": "stream",
          "text": [
            "/home/ahmad/miniconda3/envs/hsi/lib/python3.10/site-packages/keras/src/optimizers/legacy/adam.py:118: UserWarning: The `lr` argument is deprecated, use `learning_rate` instead.\n",
            "  super().__init__(name, **kwargs)\n"
          ]
        }
      ],
      "source": [
        "## Global Parameters for Loop\n",
        "HSID = \"UH\" ## UH, PU, SA\n",
        "WS = 8\n",
        "teRatio = 0.50\n",
        "vrRatio = 0.50\n",
        "k = 15\n",
        "adam = tf.keras.optimizers.legacy.Adam(lr = 0.0001, decay = 1e-06)\n",
        "epochs = 50\n",
        "batch_size = 56"
      ]
    },
    {
      "cell_type": "markdown",
      "metadata": {
        "id": "rPdFijeX2ml1"
      },
      "source": [
        "**Dimensionality Reduction and 3D Patch Process**"
      ]
    },
    {
      "cell_type": "code",
      "execution_count": 5,
      "metadata": {
        "id": "kPlrRGkb2m1L"
      },
      "outputs": [],
      "source": [
        "## Different Dimensional Reduction Methods\n",
        "def DLMethod(HSI, NC = 75):\n",
        "  RHSI = np.reshape(HSI, (-1, HSI.shape[2]))\n",
        "  pca = PCA(n_components = NC, whiten = True)\n",
        "  RHSI = pca.fit_transform(RHSI)\n",
        "  RHSI = np.reshape(RHSI, (HSI.shape[0], HSI.shape[1], NC))\n",
        "  return RHSI\n",
        "\n",
        "## Creat Patches for 3D (Spatial-Spectral) Models\n",
        "def ImageCubes(HSI, GT, WS=WS, removeZeroLabels=True):\n",
        "    num_rows, num_cols, num_bands = HSI.shape\n",
        "    margin = int(WS / 2)\n",
        "    padded_data = np.pad(HSI, ((margin, margin), (margin, margin), (0, 0)), mode='constant')\n",
        "    image_cubes = np.zeros((num_rows * num_cols, WS, WS, num_bands))\n",
        "    patchesLabels = np.zeros((num_rows * num_cols))\n",
        "    patchIndex = 0\n",
        "    for r in range(margin, num_rows + margin):\n",
        "        for c in range(margin, num_cols + margin):\n",
        "            cube = padded_data[r - margin: r + margin, c - margin: c + margin, :]\n",
        "            image_cubes[patchIndex, :, :, :] = cube\n",
        "            patchesLabels[patchIndex] = GT[r-margin, c-margin]\n",
        "            patchIndex = patchIndex + 1\n",
        "    return image_cubes, patchesLabels"
      ]
    },
    {
      "cell_type": "markdown",
      "metadata": {
        "id": "2Jvtcwqr2vLy"
      },
      "source": [
        "**Preprocessing**"
      ]
    },
    {
      "cell_type": "code",
      "execution_count": 6,
      "metadata": {
        "id": "GoXErHJO2vZX"
      },
      "outputs": [],
      "source": [
        "## Main Function to load Datasets, Dimensional Reduction and Creating Patchs for CNN\n",
        "HSI, GT, Num_Classes, target_names = LoadHSIData(HSID)\n",
        "## Reduce the Dimensionality\n",
        "start = time.time()\n",
        "RDHSI = DLMethod(HSI, NC = k)\n",
        "end = time.time()\n",
        "DL_Time = end - start\n",
        "## Create Image Cubes for Model Building\n",
        "CRDHSI, CGT = ImageCubes(RDHSI, GT, WS = WS)"
      ]
    },
    {
      "cell_type": "markdown",
      "metadata": {
        "id": "0L2zCZIi3BHu"
      },
      "source": [
        "**Disjoint Train/Validation/Test Sample Selection**"
      ]
    },
    {
      "cell_type": "code",
      "execution_count": 7,
      "metadata": {
        "colab": {
          "base_uri": "https://localhost:8080/",
          "height": 89
        },
        "id": "vCQYpgRw3BWV",
        "outputId": "d09335d0-a795-40c4-9157-7588dfa01ff1"
      },
      "outputs": [],
      "source": [
        "## Set seed for reproducibility\n",
        "np.random.seed(42)\n",
        "## Calculate the number of rows for each sample\n",
        "num_rows, num_cols = GT.shape\n",
        "## Flatten the matrix into a 1D array\n",
        "flattened = GT.flatten()\n",
        "## Get the unique values and their counts, excluding the 0 class\n",
        "unique_values, value_counts = np.unique(flattened, return_counts=True)\n",
        "nonzero_indices = np.where(unique_values != 0)[0]\n",
        "unique_values = unique_values[nonzero_indices]\n",
        "## Create a DataFrame to store sample counts\n",
        "Samples = pd.DataFrame(columns=['Training', 'Validation', 'Test'])\n",
        "## Create lists to store the indices\n",
        "TrInd = []\n",
        "VaInd = []\n",
        "TeInd = []\n",
        "## Split the data for each class\n",
        "for value in unique_values:\n",
        "    class_indices = np.where(flattened == value)[0]\n",
        "    train_indices, test_indices = train_test_split(class_indices, test_size=teRatio)\n",
        "    train_indices, val_indices = train_test_split(train_indices, test_size=vrRatio)\n",
        "    ## Save the sample counts\n",
        "    Samples.loc[value] = [len(train_indices), len(val_indices), len(test_indices)]\n",
        "    ## Store the indices\n",
        "    TrInd.extend(train_indices)\n",
        "    VaInd.extend(val_indices)\n",
        "    TeInd.extend(test_indices)\n",
        "\n",
        "## Convert the DataFrame to a CSV file\n",
        "file_name = f\"{HSID}_{teRatio}_{vrRatio}_{k}_{WS}_Samples.csv\"\n",
        "Samples.to_csv(file_name, index_label='Class')\n",
        "## Reshape the selected samples back into the GT size\n",
        "train_matrix = np.zeros_like(GT)\n",
        "val_matrix = np.zeros_like(GT)\n",
        "test_matrix = np.zeros_like(GT)\n",
        "## Convert Train/Validation/Test samples into Matrix\n",
        "train_matrix.flat[TrInd] = 1\n",
        "val_matrix.flat[VaInd] = 1\n",
        "test_matrix.flat[TeInd] = 1\n",
        "## Select Train/Validation/Test Samples\n",
        "Tr = CRDHSI[TrInd]\n",
        "Va = CRDHSI[VaInd]\n",
        "Te = CRDHSI[TeInd]\n",
        "## Convert labels into one-hot encoding\n",
        "TrC = to_categorical(CGT[TrInd] -1)\n",
        "VaC = to_categorical(CGT[VaInd] -1)\n",
        "TeC = to_categorical(CGT[TeInd] -1)"
      ]
    },
    {
      "cell_type": "code",
      "execution_count": 8,
      "metadata": {
        "id": "b_zanVtVldiS"
      },
      "outputs": [],
      "source": [
        "# Define the Pyramid 3D CNN model\n",
        "def pyramid_3d_cnn(WS, k, num_pyramid_levels):\n",
        "    input_shape = (WS, WS, k, 1)\n",
        "    max_patch_size = min(input_shape[:3])\n",
        "    patch_size = max_patch_size\n",
        "    inputs = layers.Input(shape=input_shape)\n",
        "    x = inputs\n",
        "    # Create pyramid levels\n",
        "    pyramid_outputs = []\n",
        "    # Create pyramid levels\n",
        "    for level in range(num_pyramid_levels):\n",
        "        scale = 2 ** level\n",
        "        scaled_input_shape = (input_shape[0] // scale, input_shape[1] // scale, input_shape[2] // scale, input_shape[3])\n",
        "        # Convolutional layers for each pyramid level\n",
        "        x = tf.keras.layers.Conv3D(32, kernel_size=(1, patch_size, patch_size), activation='relu', padding='same', input_shape=scaled_input_shape)(x)\n",
        "        x = tf.keras.layers.Conv3D(64, kernel_size=(1, patch_size, patch_size), activation='relu', padding='same')(x)\n",
        "        pyramid_outputs.append(x)\n",
        "\n",
        "    # Merge the feature maps from pyramid levels\n",
        "    merged = tf.keras.layers.concatenate(pyramid_outputs, axis=-1)\n",
        "    return Model(inputs=inputs, outputs=merged)\n",
        "\n",
        "def PyFormer(WS, k, num_classes):\n",
        "    num_layers = 2\n",
        "    num_heads = 4\n",
        "    mlp_dim = 64\n",
        "    num_pyramid_levels = 2\n",
        "    input_shape = (WS, WS, k, 1)\n",
        "    inputs = layers.Input(shape=input_shape)\n",
        "    x = pyramid_3d_cnn(WS, k, num_pyramid_levels)(inputs)\n",
        "    x = layers.Activation(\"relu\")(x)\n",
        "    for i in range(num_layers):\n",
        "        x = layers.LayerNormalization()(x)\n",
        "        x = layers.MultiHeadAttention(num_heads=num_heads, key_dim=k)(x, x)\n",
        "        x = layers.Add()([x, inputs])\n",
        "        y = layers.Conv3D(filters=k, kernel_size=(1, WS, WS), activation='relu', padding='same')(x)\n",
        "        y = layers.Conv3D(filters=2*mlp_dim, kernel_size=(1, WS, WS), activation='relu', padding='same')(y)\n",
        "        x = layers.Add()([x, y])\n",
        "    # Apply regularization\n",
        "    flatten_layer = layers.Flatten()(x)\n",
        "    x = layers.Dense(units=128, activation=\"relu\", kernel_regularizer=tf.keras.regularizers.l2(0.01))(flatten_layer)\n",
        "    outputs = layers.Dense(num_classes, activation=\"softmax\")(x)\n",
        "    model = Model(inputs=inputs, outputs=outputs, name='PyFormer')\n",
        "    return model"
      ]
    },
    {
      "cell_type": "code",
      "execution_count": 9,
      "metadata": {
        "id": "hQA-MSt4lfeV"
      },
      "outputs": [],
      "source": [
        "def train_and_evaluate_model(model_name, Tr, TrC, Va, VaC, Te, TeC, adam,\n",
        "                             CRDHSI, HSID, teRatio, k, WS, RDHSI,\n",
        "                             GT,Num_Classes,batch_size,epochs, val_matrix,\n",
        "                             VaInd, test_matrix, TeInd, flattened):\n",
        "  # Calling Custom Model\n",
        "  model = model_name(WS, k, Num_Classes)\n",
        "  model.summary()\n",
        "  # Compiling the model\n",
        "  model.compile(loss='categorical_crossentropy', optimizer=adam, metrics=['accuracy'])\n",
        "  # Training the model\n",
        "  start = time.time()\n",
        "  history = model.fit(x=Tr, y=TrC, batch_size=batch_size, epochs=epochs, validation_data=(Va, VaC))\n",
        "  end = time.time()\n",
        "  Tr_Time = end - start\n",
        "\n",
        "  ## Test Prediction Model\n",
        "  start = time.time()\n",
        "  Te_Pre = PreModel(Te, model)\n",
        "  end = time.time()\n",
        "  Te_Time = end - start\n",
        "\n",
        "  ## Transform The Test Predicted Labels into GTs for Final Plot\n",
        "  Te_labels = Tranform_Labels(test_matrix, TeInd, Te_Pre)\n",
        "\n",
        "  ## Classification Report for Test Model\n",
        "  Te_classification,Te_Confusion,Te_OA,Te_Per_Class,Te_AA,Te_Kappa = ClassificationReports(TeC, HSID, Te_Pre, target_names)\n",
        "  Te_Kappa = round(Te_Kappa, 4)\n",
        "  ## Writing Results in CSV File\n",
        "  file_name = f\"{HSID}_{teRatio}_{vrRatio}_{WS}_{model_name}_Classification_Report.csv\"\n",
        "  CSV_file = CSVResults(file_name, Tr_Time, Te_Time, Te_classification, Te_Confusion,\n",
        "                        Te_Kappa, Te_OA, Te_AA, Te_Per_Class)\n",
        "\n",
        "  ## Print Ground Truths\n",
        "  cmap = 'jet'\n",
        "  plt.figure(figsize=(8, 8))\n",
        "  plt.imshow(Te_labels, cmap=cmap, interpolation='nearest')\n",
        "  plt.title(f'Dis_Test: {Te_Kappa}%', fontsize=10, fontweight='bold')\n",
        "  plt.axis('off')\n",
        "  plt.tight_layout()\n",
        "  ## Save the plot\n",
        "  file_name = f\"{HSID}_{teRatio}_{vrRatio}_{WS}_{model_name}_Predicted_GTs.png\"\n",
        "  plt.savefig(file_name, dpi=500, format='png', bbox_inches='tight', pad_inches=0)\n",
        "  return history"
      ]
    },
    {
      "cell_type": "code",
      "execution_count": 10,
      "metadata": {
        "colab": {
          "base_uri": "https://localhost:8080/",
          "height": 1000
        },
        "id": "ogdW6LxIlfh8",
        "outputId": "bc163707-e96e-4088-d7bb-b3029091cf18"
      },
      "outputs": [
        {
          "name": "stderr",
          "output_type": "stream",
          "text": [
            "2024-09-14 10:39:28.477215: I external/local_xla/xla/stream_executor/cuda/cuda_executor.cc:887] could not open file to read NUMA node: /sys/bus/pci/devices/0000:01:00.0/numa_node\n",
            "Your kernel may have been built without NUMA support.\n",
            "2024-09-14 10:39:28.499938: I external/local_xla/xla/stream_executor/cuda/cuda_executor.cc:887] could not open file to read NUMA node: /sys/bus/pci/devices/0000:01:00.0/numa_node\n",
            "Your kernel may have been built without NUMA support.\n",
            "2024-09-14 10:39:28.499979: I external/local_xla/xla/stream_executor/cuda/cuda_executor.cc:887] could not open file to read NUMA node: /sys/bus/pci/devices/0000:01:00.0/numa_node\n",
            "Your kernel may have been built without NUMA support.\n",
            "2024-09-14 10:39:28.510870: I external/local_xla/xla/stream_executor/cuda/cuda_executor.cc:887] could not open file to read NUMA node: /sys/bus/pci/devices/0000:01:00.0/numa_node\n",
            "Your kernel may have been built without NUMA support.\n",
            "2024-09-14 10:39:28.510964: I external/local_xla/xla/stream_executor/cuda/cuda_executor.cc:887] could not open file to read NUMA node: /sys/bus/pci/devices/0000:01:00.0/numa_node\n",
            "Your kernel may have been built without NUMA support.\n",
            "2024-09-14 10:39:28.510996: I external/local_xla/xla/stream_executor/cuda/cuda_executor.cc:887] could not open file to read NUMA node: /sys/bus/pci/devices/0000:01:00.0/numa_node\n",
            "Your kernel may have been built without NUMA support.\n",
            "2024-09-14 10:39:30.219813: I external/local_xla/xla/stream_executor/cuda/cuda_executor.cc:887] could not open file to read NUMA node: /sys/bus/pci/devices/0000:01:00.0/numa_node\n",
            "Your kernel may have been built without NUMA support.\n",
            "2024-09-14 10:39:30.219865: I external/local_xla/xla/stream_executor/cuda/cuda_executor.cc:887] could not open file to read NUMA node: /sys/bus/pci/devices/0000:01:00.0/numa_node\n",
            "Your kernel may have been built without NUMA support.\n",
            "2024-09-14 10:39:30.219871: I tensorflow/core/common_runtime/gpu/gpu_device.cc:2022] Could not identify NUMA node of platform GPU id 0, defaulting to 0.  Your kernel may not have been built with NUMA support.\n",
            "2024-09-14 10:39:30.219908: I external/local_xla/xla/stream_executor/cuda/cuda_executor.cc:887] could not open file to read NUMA node: /sys/bus/pci/devices/0000:01:00.0/numa_node\n",
            "Your kernel may have been built without NUMA support.\n",
            "2024-09-14 10:39:30.219930: I tensorflow/core/common_runtime/gpu/gpu_device.cc:1929] Created device /job:localhost/replica:0/task:0/device:GPU:0 with 5578 MB memory:  -> device: 0, name: NVIDIA GeForce RTX 4060 Laptop GPU, pci bus id: 0000:01:00.0, compute capability: 8.9\n"
          ]
        },
        {
          "name": "stdout",
          "output_type": "stream",
          "text": [
            "Model: \"PyFormer\"\n",
            "__________________________________________________________________________________________________\n",
            " Layer (type)                Output Shape                 Param #   Connected to                  \n",
            "==================================================================================================\n",
            " input_1 (InputLayer)        [(None, 8, 8, 15, 1)]        0         []                            \n",
            "                                                                                                  \n",
            " model (Functional)          (None, 8, 8, 15, 128)        395456    ['input_1[0][0]']             \n",
            "                                                                                                  \n",
            " activation (Activation)     (None, 8, 8, 15, 128)        0         ['model[0][0]']               \n",
            "                                                                                                  \n",
            " layer_normalization (Layer  (None, 8, 8, 15, 128)        256       ['activation[0][0]']          \n",
            " Normalization)                                                                                   \n",
            "                                                                                                  \n",
            " multi_head_attention (Mult  (None, 8, 8, 15, 128)        31028     ['layer_normalization[0][0]', \n",
            " iHeadAttention)                                                     'layer_normalization[0][0]'] \n",
            "                                                                                                  \n",
            " add (Add)                   (None, 8, 8, 15, 128)        0         ['multi_head_attention[0][0]',\n",
            "                                                                     'input_1[0][0]']             \n",
            "                                                                                                  \n",
            " conv3d_4 (Conv3D)           (None, 8, 8, 15, 15)         122895    ['add[0][0]']                 \n",
            "                                                                                                  \n",
            " conv3d_5 (Conv3D)           (None, 8, 8, 15, 128)        123008    ['conv3d_4[0][0]']            \n",
            "                                                                                                  \n",
            " add_1 (Add)                 (None, 8, 8, 15, 128)        0         ['add[0][0]',                 \n",
            "                                                                     'conv3d_5[0][0]']            \n",
            "                                                                                                  \n",
            " layer_normalization_1 (Lay  (None, 8, 8, 15, 128)        256       ['add_1[0][0]']               \n",
            " erNormalization)                                                                                 \n",
            "                                                                                                  \n",
            " multi_head_attention_1 (Mu  (None, 8, 8, 15, 128)        31028     ['layer_normalization_1[0][0]'\n",
            " ltiHeadAttention)                                                  , 'layer_normalization_1[0][0]\n",
            "                                                                    ']                            \n",
            "                                                                                                  \n",
            " add_2 (Add)                 (None, 8, 8, 15, 128)        0         ['multi_head_attention_1[0][0]\n",
            "                                                                    ',                            \n",
            "                                                                     'input_1[0][0]']             \n",
            "                                                                                                  \n",
            " conv3d_6 (Conv3D)           (None, 8, 8, 15, 15)         122895    ['add_2[0][0]']               \n",
            "                                                                                                  \n",
            " conv3d_7 (Conv3D)           (None, 8, 8, 15, 128)        123008    ['conv3d_6[0][0]']            \n",
            "                                                                                                  \n",
            " add_3 (Add)                 (None, 8, 8, 15, 128)        0         ['add_2[0][0]',               \n",
            "                                                                     'conv3d_7[0][0]']            \n",
            "                                                                                                  \n",
            " flatten (Flatten)           (None, 122880)               0         ['add_3[0][0]']               \n",
            "                                                                                                  \n",
            " dense (Dense)               (None, 128)                  1572876   ['flatten[0][0]']             \n",
            "                                                          8                                       \n",
            "                                                                                                  \n",
            " dense_1 (Dense)             (None, 15)                   1935      ['dense[0][0]']               \n",
            "                                                                                                  \n",
            "==================================================================================================\n",
            "Total params: 16680533 (63.63 MB)\n",
            "Trainable params: 16680533 (63.63 MB)\n",
            "Non-trainable params: 0 (0.00 Byte)\n",
            "__________________________________________________________________________________________________\n",
            "Epoch 1/50\n"
          ]
        },
        {
          "name": "stderr",
          "output_type": "stream",
          "text": [
            "2024-09-14 10:39:32.222907: I external/local_xla/xla/stream_executor/cuda/cuda_dnn.cc:454] Loaded cuDNN version 8904\n",
            "2024-09-14 10:39:32.410251: I external/local_tsl/tsl/platform/default/subprocess.cc:304] Start cannot spawn child process: No such file or directory\n",
            "2024-09-14 10:39:32.505554: I external/local_tsl/tsl/platform/default/subprocess.cc:304] Start cannot spawn child process: No such file or directory\n"
          ]
        },
        {
          "name": "stdout",
          "output_type": "stream",
          "text": [
            "68/68 [==============================] - 71s 886ms/step - loss: 3.1620 - accuracy: 0.8817 - val_loss: 2.6957 - val_accuracy: 0.9572\n",
            "Epoch 2/50\n",
            "68/68 [==============================] - 54s 798ms/step - loss: 2.5065 - accuracy: 0.9805 - val_loss: 2.5131 - val_accuracy: 0.9617\n",
            "Epoch 3/50\n",
            "68/68 [==============================] - 54s 795ms/step - loss: 2.2052 - accuracy: 0.9920 - val_loss: 2.1354 - val_accuracy: 0.9798\n",
            "Epoch 4/50\n",
            "68/68 [==============================] - 54s 796ms/step - loss: 1.9840 - accuracy: 0.9891 - val_loss: 1.9023 - val_accuracy: 0.9824\n",
            "Epoch 5/50\n",
            "68/68 [==============================] - 54s 795ms/step - loss: 1.7299 - accuracy: 0.9949 - val_loss: 1.7100 - val_accuracy: 0.9808\n",
            "Epoch 6/50\n",
            "68/68 [==============================] - 54s 797ms/step - loss: 1.5579 - accuracy: 0.9907 - val_loss: 1.5779 - val_accuracy: 0.9774\n",
            "Epoch 7/50\n",
            "68/68 [==============================] - 54s 794ms/step - loss: 1.5181 - accuracy: 0.9782 - val_loss: 1.4978 - val_accuracy: 0.9649\n",
            "Epoch 8/50\n",
            "68/68 [==============================] - 54s 794ms/step - loss: 1.4235 - accuracy: 0.9800 - val_loss: 1.4655 - val_accuracy: 0.9585\n",
            "Epoch 9/50\n",
            "68/68 [==============================] - 54s 794ms/step - loss: 1.1920 - accuracy: 0.9872 - val_loss: 1.3151 - val_accuracy: 0.9792\n",
            "Epoch 10/50\n",
            "68/68 [==============================] - 54s 793ms/step - loss: 1.0343 - accuracy: 0.9947 - val_loss: 1.5224 - val_accuracy: 0.9633\n",
            "Epoch 11/50\n",
            "68/68 [==============================] - 54s 793ms/step - loss: 0.9157 - accuracy: 0.9939 - val_loss: 0.9471 - val_accuracy: 0.9824\n",
            "Epoch 12/50\n",
            "68/68 [==============================] - 54s 793ms/step - loss: 0.7745 - accuracy: 0.9968 - val_loss: 0.8444 - val_accuracy: 0.9824\n",
            "Epoch 13/50\n",
            "68/68 [==============================] - 54s 793ms/step - loss: 0.6541 - accuracy: 0.9997 - val_loss: 0.6881 - val_accuracy: 0.9875\n",
            "Epoch 14/50\n",
            "68/68 [==============================] - 54s 793ms/step - loss: 0.5468 - accuracy: 1.0000 - val_loss: 0.5852 - val_accuracy: 0.9875\n",
            "Epoch 15/50\n",
            "68/68 [==============================] - 54s 793ms/step - loss: 0.4568 - accuracy: 1.0000 - val_loss: 0.4960 - val_accuracy: 0.9872\n",
            "Epoch 16/50\n",
            "68/68 [==============================] - 54s 793ms/step - loss: 0.3800 - accuracy: 1.0000 - val_loss: 0.4199 - val_accuracy: 0.9870\n",
            "Epoch 17/50\n",
            "68/68 [==============================] - 54s 796ms/step - loss: 0.3149 - accuracy: 1.0000 - val_loss: 0.3556 - val_accuracy: 0.9867\n",
            "Epoch 18/50\n",
            "68/68 [==============================] - 54s 793ms/step - loss: 0.2600 - accuracy: 1.0000 - val_loss: 0.3003 - val_accuracy: 0.9872\n",
            "Epoch 19/50\n",
            "68/68 [==============================] - 54s 794ms/step - loss: 0.2141 - accuracy: 1.0000 - val_loss: 0.2523 - val_accuracy: 0.9883\n",
            "Epoch 20/50\n",
            "68/68 [==============================] - 54s 794ms/step - loss: 0.1760 - accuracy: 1.0000 - val_loss: 0.2137 - val_accuracy: 0.9880\n",
            "Epoch 21/50\n",
            "68/68 [==============================] - 54s 799ms/step - loss: 0.1445 - accuracy: 1.0000 - val_loss: 0.1848 - val_accuracy: 0.9875\n",
            "Epoch 22/50\n",
            "68/68 [==============================] - 54s 802ms/step - loss: 0.1184 - accuracy: 1.0000 - val_loss: 0.1609 - val_accuracy: 0.9859\n",
            "Epoch 23/50\n",
            "68/68 [==============================] - 54s 801ms/step - loss: 0.0972 - accuracy: 1.0000 - val_loss: 0.1474 - val_accuracy: 0.9848\n",
            "Epoch 24/50\n",
            "68/68 [==============================] - 54s 797ms/step - loss: 0.6616 - accuracy: 0.9350 - val_loss: 1.3832 - val_accuracy: 0.9045\n",
            "Epoch 25/50\n",
            "68/68 [==============================] - 54s 803ms/step - loss: 1.0654 - accuracy: 0.9619 - val_loss: 1.0460 - val_accuracy: 0.9691\n",
            "Epoch 26/50\n",
            "68/68 [==============================] - 54s 796ms/step - loss: 0.7954 - accuracy: 0.9851 - val_loss: 0.9505 - val_accuracy: 0.9673\n",
            "Epoch 27/50\n",
            "68/68 [==============================] - 54s 795ms/step - loss: 0.7261 - accuracy: 0.9917 - val_loss: 1.2519 - val_accuracy: 0.9681\n",
            "Epoch 28/50\n",
            "68/68 [==============================] - 54s 799ms/step - loss: 0.7334 - accuracy: 0.9933 - val_loss: 0.6893 - val_accuracy: 0.9779\n",
            "Epoch 29/50\n",
            "68/68 [==============================] - 54s 795ms/step - loss: 0.5214 - accuracy: 0.9955 - val_loss: 0.5780 - val_accuracy: 0.9846\n",
            "Epoch 30/50\n",
            "68/68 [==============================] - 54s 802ms/step - loss: 0.4273 - accuracy: 0.9968 - val_loss: 0.4882 - val_accuracy: 0.9883\n",
            "Epoch 31/50\n",
            "68/68 [==============================] - 54s 794ms/step - loss: 0.3395 - accuracy: 1.0000 - val_loss: 0.3993 - val_accuracy: 0.9883\n",
            "Epoch 32/50\n",
            "68/68 [==============================] - 54s 794ms/step - loss: 0.2716 - accuracy: 1.0000 - val_loss: 0.3327 - val_accuracy: 0.9872\n",
            "Epoch 33/50\n",
            "68/68 [==============================] - 54s 795ms/step - loss: 0.2172 - accuracy: 1.0000 - val_loss: 0.2767 - val_accuracy: 0.9878\n",
            "Epoch 34/50\n",
            "68/68 [==============================] - 54s 794ms/step - loss: 0.1736 - accuracy: 1.0000 - val_loss: 0.2306 - val_accuracy: 0.9886\n",
            "Epoch 35/50\n",
            "68/68 [==============================] - 54s 795ms/step - loss: 0.1388 - accuracy: 1.0000 - val_loss: 0.1903 - val_accuracy: 0.9883\n",
            "Epoch 36/50\n",
            "68/68 [==============================] - 54s 795ms/step - loss: 0.1110 - accuracy: 1.0000 - val_loss: 0.1585 - val_accuracy: 0.9886\n",
            "Epoch 37/50\n",
            "68/68 [==============================] - 54s 795ms/step - loss: 0.0889 - accuracy: 1.0000 - val_loss: 0.1345 - val_accuracy: 0.9883\n",
            "Epoch 38/50\n",
            "68/68 [==============================] - 54s 796ms/step - loss: 0.0713 - accuracy: 1.0000 - val_loss: 0.1139 - val_accuracy: 0.9886\n",
            "Epoch 39/50\n",
            "68/68 [==============================] - 54s 797ms/step - loss: 0.0575 - accuracy: 1.0000 - val_loss: 0.0972 - val_accuracy: 0.9883\n",
            "Epoch 40/50\n",
            "68/68 [==============================] - 54s 798ms/step - loss: 0.0465 - accuracy: 1.0000 - val_loss: 0.0822 - val_accuracy: 0.9891\n",
            "Epoch 41/50\n",
            "68/68 [==============================] - 54s 796ms/step - loss: 0.0379 - accuracy: 1.0000 - val_loss: 0.0707 - val_accuracy: 0.9891\n",
            "Epoch 42/50\n",
            "68/68 [==============================] - 54s 797ms/step - loss: 0.0312 - accuracy: 1.0000 - val_loss: 0.0630 - val_accuracy: 0.9904\n",
            "Epoch 43/50\n",
            "68/68 [==============================] - 54s 796ms/step - loss: 0.0257 - accuracy: 1.0000 - val_loss: 0.0549 - val_accuracy: 0.9912\n",
            "Epoch 44/50\n",
            "68/68 [==============================] - 54s 795ms/step - loss: 0.0215 - accuracy: 1.0000 - val_loss: 0.0465 - val_accuracy: 0.9920\n",
            "Epoch 45/50\n",
            "68/68 [==============================] - 54s 797ms/step - loss: 0.0183 - accuracy: 1.0000 - val_loss: 0.0455 - val_accuracy: 0.9923\n",
            "Epoch 46/50\n",
            "68/68 [==============================] - 54s 794ms/step - loss: 0.0165 - accuracy: 0.9997 - val_loss: 0.2387 - val_accuracy: 0.9665\n",
            "Epoch 47/50\n",
            "68/68 [==============================] - 54s 797ms/step - loss: 1.1801 - accuracy: 0.9270 - val_loss: 0.9685 - val_accuracy: 0.9763\n",
            "Epoch 48/50\n",
            "68/68 [==============================] - 54s 798ms/step - loss: 0.8220 - accuracy: 0.9853 - val_loss: 0.7692 - val_accuracy: 0.9870\n",
            "Epoch 49/50\n",
            "68/68 [==============================] - 54s 797ms/step - loss: 0.7848 - accuracy: 0.9915 - val_loss: 0.7374 - val_accuracy: 0.9856\n",
            "Epoch 50/50\n",
            "68/68 [==============================] - 54s 797ms/step - loss: 0.6149 - accuracy: 0.9925 - val_loss: 0.6735 - val_accuracy: 0.9822\n",
            "235/235 [==============================] - 35s 141ms/step\n"
          ]
        },
        {
          "data": {
            "image/png": "[encoded data removed]",
            "text/plain": [
              "<Figure size 800x800 with 1 Axes>"
            ]
          },
          "metadata": {},
          "output_type": "display_data"
        }
      ],
      "source": [
        "# # Define a list of model names\n",
        "# model_names = [AttentionGCN, Xtreme_Exception, HybIN, SCSNet, PyFormer]\n",
        "model_names = [PyFormer]\n",
        "# Loop over the model names and run train_and_evaluate_model() for each model\n",
        "history_list = []\n",
        "for model_name in model_names:\n",
        "    history = train_and_evaluate_model(model_name, Tr, TrC, Va, VaC, Te, TeC,\n",
        "                                       adam, CRDHSI, HSID, teRatio, k, WS,\n",
        "                                       RDHSI, GT, Num_Classes, batch_size,\n",
        "                                       epochs, val_matrix, VaInd,\n",
        "                                       test_matrix, TeInd, flattened)\n",
        "    history_list.append(history)"
      ]
    },
    {
      "cell_type": "code",
      "execution_count": 11,
      "metadata": {
        "id": "u9VE9ay8lfwN"
      },
      "outputs": [
        {
          "data": {
            "image/png": "[encoded data removed]",
            "text/plain": [
              "<Figure size 800x400 with 2 Axes>"
            ]
          },
          "metadata": {},
          "output_type": "display_data"
        }
      ],
      "source": [
        "# Plot training and validation loss and accuracy for each model on one graph\n",
        "fig, axs = plt.subplots(1, 2, figsize=(8, 4))\n",
        "# colors = ['brown', 'gray', 'blue', 'green', 'purple', 'orange', 'yellow', 'red', 'YlOrBr', 'RdPu', 'YlGn']\n",
        "\n",
        "for i, history in enumerate(history_list):\n",
        "    # Plot loss\n",
        "    axs[0].plot(history.history['loss'], label=f'{model_names[i].__name__} Train')\n",
        "    axs[0].plot(history.history['val_loss'], label=f'{model_names[i].__name__} Val', linestyle='--')\n",
        "    # Plot accuracy\n",
        "    axs[1].plot(history.history['accuracy'], label=f'{model_names[i].__name__} Train')\n",
        "    axs[1].plot(history.history['val_accuracy'], label=f'{model_names[i].__name__} Val', linestyle='--')\n",
        "# Add labels and legend\n",
        "axs[0].set_title('Loss', fontsize=18)\n",
        "axs[0].set_xlabel('Epoch', fontsize=18)\n",
        "# axs[0].set_ylabel('Loss', fontsize=18)\n",
        "# axs[0].legend(fontsize=18)\n",
        "\n",
        "axs[1].set_title('Accuracy', fontsize=18)\n",
        "axs[1].set_xlabel('Epoch', fontsize=18)\n",
        "# axs[1].set_ylabel('Accuracy', fontsize=18)\n",
        "axs[1].legend(fontsize=6)\n",
        "\n",
        "# Add grid lines and set background color\n",
        "axs[0].grid(True)\n",
        "axs[1].grid(True)\n",
        "# fig.patch.set_facecolor('#f2f2f2')\n",
        "plt.tight_layout()\n",
        "file_name = f\"{HSID}_{teRatio}_{k}_{WS}_acc_loss_curve_all_models.png\"\n",
        "plt.savefig(file_name, dpi=500, format='png', bbox_inches='tight', pad_inches=0)"
      ]
    },
    {
      "cell_type": "code",
      "execution_count": null,
      "metadata": {
        "id": "kONuy4QMlfzo"
      },
      "outputs": [],
      "source": []
    }
  ],
  "metadata": {
    "accelerator": "GPU",
    "colab": {
      "gpuType": "T4",
      "provenance": []
    },
    "kernelspec": {
      "display_name": "Python 3",
      "name": "python3"
    },
    "language_info": {
      "codemirror_mode": {
        "name": "ipython",
        "version": 3
      },
      "file_extension": ".py",
      "mimetype": "text/x-python",
      "name": "python",
      "nbconvert_exporter": "python",
      "pygments_lexer": "ipython3",
      "version": "3.10.14"
    }
  },
  "nbformat": 4,
  "nbformat_minor": 0
}
